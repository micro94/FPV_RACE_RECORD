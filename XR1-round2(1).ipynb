{
 "cells": [
  {
   "cell_type": "code",
   "execution_count": 10,
   "metadata": {},
   "outputs": [],
   "source": [
    "import pandas as pd\n",
    "import matplotlib as mpl\n",
    "from matplotlib import pyplot as plt\n",
    "pd.options.display.max_rows = 9999\n",
    "pd.options.display.max_columns = 9999\n",
    "\n",
    "#폰트 작업\n",
    "import matplotlib.font_manager as fm\n",
    "mpl.rc('font', family='AppleGothic')\n",
    "plt.rcParams['axes.unicode_minus'] = False\n",
    "\n",
    "%matplotlib inline\n",
    "%config InlineBackend.figure_format = 'retina'"
   ]
  },
  {
   "cell_type": "code",
   "execution_count": 21,
   "metadata": {
    "scrolled": true
   },
   "outputs": [],
   "source": [
    "#데이터 불러오기\n",
    "\n",
    "XR1 = pd.read_csv(\"1.csv\",encoding='utf-8')"
   ]
  },
  {
   "cell_type": "markdown",
   "metadata": {},
   "source": [
    "### 경기 데이터 \n",
    "### 분석할 경기 데이터\n",
    "### 12 라운드로 구성\n",
    "### 선수들은 총 3개의 레벨로 나뉜다\n",
    "#### XR1,XR2,XR3 (정상급 선수 ,아마추어 선수, 준아마추어 선수)\n",
    "###5개의 그룹에 선수들이 무작위로 섞여 경기 진행"
   ]
  },
  {
   "cell_type": "code",
   "execution_count": 22,
   "metadata": {},
   "outputs": [
    {
     "data": {
      "text/html": [
       "<div>\n",
       "<style scoped>\n",
       "    .dataframe tbody tr th:only-of-type {\n",
       "        vertical-align: middle;\n",
       "    }\n",
       "\n",
       "    .dataframe tbody tr th {\n",
       "        vertical-align: top;\n",
       "    }\n",
       "\n",
       "    .dataframe thead th {\n",
       "        text-align: right;\n",
       "    }\n",
       "</style>\n",
       "<table border=\"1\" class=\"dataframe\">\n",
       "  <thead>\n",
       "    <tr style=\"text-align: right;\">\n",
       "      <th></th>\n",
       "      <th>Group 1</th>\n",
       "    </tr>\n",
       "  </thead>\n",
       "  <tbody>\n",
       "    <tr>\n",
       "      <th>329</th>\n",
       "      <td>F7 김영모(XR3) 01:53.46</td>\n",
       "    </tr>\n",
       "    <tr>\n",
       "      <th>330</th>\n",
       "      <td>E6 최준원(XR1) 00:47.02</td>\n",
       "    </tr>\n",
       "    <tr>\n",
       "      <th>331</th>\n",
       "      <td>Group 5</td>\n",
       "    </tr>\n",
       "    <tr>\n",
       "      <th>332</th>\n",
       "      <td>E2 양우(XR2) 00:00.</td>\n",
       "    </tr>\n",
       "    <tr>\n",
       "      <th>333</th>\n",
       "      <td>F2 이민탁(XR3) 00:00.</td>\n",
       "    </tr>\n",
       "  </tbody>\n",
       "</table>\n",
       "</div>"
      ],
      "text/plain": [
       "                  Group 1\n",
       "329  F7 김영모(XR3) 01:53.46\n",
       "330  E6 최준원(XR1) 00:47.02\n",
       "331               Group 5\n",
       "332     E2 양우(XR2) 00:00.\n",
       "333    F2 이민탁(XR3) 00:00."
      ]
     },
     "execution_count": 22,
     "metadata": {},
     "output_type": "execute_result"
    }
   ],
   "source": [
    "XR1.tail()"
   ]
  },
  {
   "cell_type": "markdown",
   "metadata": {},
   "source": [
    "# 전처리 시작"
   ]
  },
  {
   "cell_type": "code",
   "execution_count": 23,
   "metadata": {
    "scrolled": false
   },
   "outputs": [
    {
     "data": {
      "text/html": [
       "<div>\n",
       "<style scoped>\n",
       "    .dataframe tbody tr th:only-of-type {\n",
       "        vertical-align: middle;\n",
       "    }\n",
       "\n",
       "    .dataframe tbody tr th {\n",
       "        vertical-align: top;\n",
       "    }\n",
       "\n",
       "    .dataframe thead th {\n",
       "        text-align: right;\n",
       "    }\n",
       "</style>\n",
       "<table border=\"1\" class=\"dataframe\">\n",
       "  <thead>\n",
       "    <tr style=\"text-align: right;\">\n",
       "      <th></th>\n",
       "      <th>체널</th>\n",
       "      <th>이름</th>\n",
       "      <th>기록</th>\n",
       "    </tr>\n",
       "  </thead>\n",
       "  <tbody>\n",
       "    <tr>\n",
       "      <th>329</th>\n",
       "      <td>F7</td>\n",
       "      <td>김영모(XR3)</td>\n",
       "      <td>01:53.46</td>\n",
       "    </tr>\n",
       "    <tr>\n",
       "      <th>330</th>\n",
       "      <td>E6</td>\n",
       "      <td>최준원(XR1)</td>\n",
       "      <td>00:47.02</td>\n",
       "    </tr>\n",
       "    <tr>\n",
       "      <th>331</th>\n",
       "      <td>Group</td>\n",
       "      <td>5</td>\n",
       "      <td>None</td>\n",
       "    </tr>\n",
       "    <tr>\n",
       "      <th>332</th>\n",
       "      <td>E2</td>\n",
       "      <td>양우(XR2)</td>\n",
       "      <td>00:00.</td>\n",
       "    </tr>\n",
       "    <tr>\n",
       "      <th>333</th>\n",
       "      <td>F2</td>\n",
       "      <td>이민탁(XR3)</td>\n",
       "      <td>00:00.</td>\n",
       "    </tr>\n",
       "  </tbody>\n",
       "</table>\n",
       "</div>"
      ],
      "text/plain": [
       "        체널        이름        기록\n",
       "329     F7  김영모(XR3)  01:53.46\n",
       "330     E6  최준원(XR1)  00:47.02\n",
       "331  Group         5      None\n",
       "332     E2   양우(XR2)    00:00.\n",
       "333     F2  이민탁(XR3)    00:00."
      ]
     },
     "execution_count": 23,
     "metadata": {},
     "output_type": "execute_result"
    }
   ],
   "source": [
    "# 한 개의 컬럼으로 뭉쳐있는 데이터들을 \"체널\",\"이름\",\"기록\"으로 분류 하기\n",
    "\n",
    "XR1 =XR1[\"Group 1\"].str.split(' ',expand=True)\n",
    "XR1.columns= [\"체널\",\"이름\",\"기록\"]\n",
    "XR1.tail()"
   ]
  },
  {
   "cell_type": "code",
   "execution_count": 24,
   "metadata": {},
   "outputs": [
    {
     "data": {
      "text/html": [
       "<div>\n",
       "<style scoped>\n",
       "    .dataframe tbody tr th:only-of-type {\n",
       "        vertical-align: middle;\n",
       "    }\n",
       "\n",
       "    .dataframe tbody tr th {\n",
       "        vertical-align: top;\n",
       "    }\n",
       "\n",
       "    .dataframe thead th {\n",
       "        text-align: right;\n",
       "    }\n",
       "</style>\n",
       "<table border=\"1\" class=\"dataframe\">\n",
       "  <thead>\n",
       "    <tr style=\"text-align: right;\">\n",
       "      <th></th>\n",
       "      <th>체널</th>\n",
       "      <th>이름</th>\n",
       "      <th>기록</th>\n",
       "    </tr>\n",
       "  </thead>\n",
       "  <tbody>\n",
       "    <tr>\n",
       "      <th>220</th>\n",
       "      <td>E2</td>\n",
       "      <td>김익환(XR3)</td>\n",
       "      <td>-</td>\n",
       "    </tr>\n",
       "  </tbody>\n",
       "</table>\n",
       "</div>"
      ],
      "text/plain": [
       "     체널        이름 기록\n",
       "220  E2  김익환(XR3)  -"
      ]
     },
     "execution_count": 24,
     "metadata": {},
     "output_type": "execute_result"
    }
   ],
   "source": [
    "# 기록 부분 잘못된 것 FIX\n",
    "\n",
    "# 완주 못했을때 00:00.으로 표시해줘야하는데\n",
    "# 특이 케이스 한 줄만 - 로 표시 되어있음\n",
    "\n",
    "XR1[XR1[\"기록\"] == \"-\"]"
   ]
  },
  {
   "cell_type": "code",
   "execution_count": 25,
   "metadata": {},
   "outputs": [],
   "source": [
    "# .loc 기능을 이용하여서 간단하게 변경\n",
    "\n",
    "XR1.loc[220][\"기록\"] = \"00:00.\""
   ]
  },
  {
   "cell_type": "code",
   "execution_count": 27,
   "metadata": {
    "scrolled": true
   },
   "outputs": [],
   "source": [
    "# 체널이라는 컬럼은 기록 분석에 중요하지 않음(영상 체널을 의미한다)\n",
    "\n",
    "XR_record = XR1.drop(\"체널\",axis=1)"
   ]
  },
  {
   "cell_type": "code",
   "execution_count": 28,
   "metadata": {},
   "outputs": [],
   "source": [
    "# 무작위로 섞여있는 각 클래스별 선수들을 나눠서 따로 프레임을 저장해준다\n",
    "\n",
    "XR1 =XR_record[XR_record[\"이름\"].str.contains(\"XR1\")]\n",
    "XR2 =XR_record[XR_record[\"이름\"].str.contains(\"XR2\")]\n",
    "XR3 =XR_record[XR_record[\"이름\"].str.contains(\"XR3\")]"
   ]
  },
  {
   "cell_type": "code",
   "execution_count": 29,
   "metadata": {},
   "outputs": [],
   "source": [
    "# 완주를 못했을때 00:00.으로 표시 된다\n",
    "# 완주 못한 데이터는 확인할 필요 없으로 제거 해준다\n",
    "\n",
    "XR1 =XR1[XR1[\"기록\"]!=\"00:00.\"]\n",
    "XR2 =(XR2[XR2[\"기록\"]!=\"00:00.\"])\n",
    "XR3 =(XR3[XR3[\"기록\"]!=\"00:00.\"])"
   ]
  },
  {
   "cell_type": "markdown",
   "metadata": {},
   "source": [
    "# 데이터 분석 "
   ]
  },
  {
   "cell_type": "markdown",
   "metadata": {},
   "source": [
    "#### 완주률 분석하기"
   ]
  },
  {
   "cell_type": "code",
   "execution_count": 30,
   "metadata": {},
   "outputs": [],
   "source": [
    "# 12 라운드 중 몇번 완주했는지 확인을 해볼것이다.\n",
    "# 이름을 기준으로 그룹을 묶어주면 각 라운드 마다 몇번의 경기를 완주했는지 알 수 있다.\n",
    "\n",
    "XR1_fullgame = XR1.groupby(\"이름\").size()\n",
    "XR2_fullgame= XR2.groupby(\"이름\").size()\n",
    "XR3_fullgame =XR3.groupby(\"이름\").size()"
   ]
  },
  {
   "cell_type": "code",
   "execution_count": 36,
   "metadata": {},
   "outputs": [
    {
     "data": {
      "text/plain": [
       "이름\n",
       "김현연(XR2)     8\n",
       "양우(XR2)      4\n",
       "이우진(XR2)     8\n",
       "장현진(XR2)     7\n",
       "정복문(XR2)    10\n",
       "조완익(XR2)    10\n",
       "조진국(XR2)    10\n",
       "dtype: int64"
      ]
     },
     "execution_count": 36,
     "metadata": {},
     "output_type": "execute_result"
    }
   ],
   "source": [
    "#예시 \n",
    "\n",
    "XR2_fullgame"
   ]
  },
  {
   "cell_type": "code",
   "execution_count": 32,
   "metadata": {},
   "outputs": [],
   "source": [
    "#총 12 라운드를 진행하였음으로 완주율을 퍼센트로 보여주기 위해 완주횟수/12 를 진행해준다.\n",
    "\n",
    "XR1_rate = XR1_fullgame/12\n",
    "XR2_rate = XR2_fullgame/12\n",
    "XR3_rate = XR3_fullgame/12"
   ]
  },
  {
   "cell_type": "code",
   "execution_count": 33,
   "metadata": {
    "scrolled": false
   },
   "outputs": [
    {
     "data": {
      "text/plain": [
       "<matplotlib.axes._subplots.AxesSubplot at 0x7fd9b2084d60>"
      ]
     },
     "execution_count": 33,
     "metadata": {},
     "output_type": "execute_result"
    },
    {
     "data": {
      "image/png": "[encoded data removed]",
      "text/plain": [
       "<Figure size 864x504 with 1 Axes>"
      ]
     },
     "metadata": {
      "image/png": {
       "height": 440,
       "width": 764
      },
      "needs_background": "light"
     },
     "output_type": "display_data"
    }
   ],
   "source": [
    "# XR1 완주률\n",
    "\n",
    "plt.figure(figsize=(12, 7))\n",
    "plt.title(\"XR1완주률\")\n",
    "plt.xlabel(\"완주율\")\n",
    "plt.ylabel(\"이름\")\n",
    "XR1_rate.plot(kind='barh')"
   ]
  },
  {
   "cell_type": "code",
   "execution_count": 35,
   "metadata": {},
   "outputs": [
    {
     "data": {
      "text/plain": [
       "<matplotlib.axes._subplots.AxesSubplot at 0x7fd9b2df9640>"
      ]
     },
     "execution_count": 35,
     "metadata": {},
     "output_type": "execute_result"
    },
    {
     "data": {
      "image/png": "[encoded data removed]",
      "text/plain": [
       "<Figure size 864x504 with 1 Axes>"
      ]
     },
     "metadata": {
      "image/png": {
       "height": 440,
       "width": 764
      },
      "needs_background": "light"
     },
     "output_type": "display_data"
    }
   ],
   "source": [
    "# XR2 완주률\n",
    "\n",
    "plt.figure(figsize=(12, 7))\n",
    "plt.title(\"XR2완주률\")\n",
    "plt.xlabel(\"완주율\")\n",
    "plt.ylabel(\"이름\")\n",
    "XR2_rate.plot(kind='barh')"
   ]
  },
  {
   "cell_type": "code",
   "execution_count": 37,
   "metadata": {},
   "outputs": [
    {
     "data": {
      "text/plain": [
       "<matplotlib.axes._subplots.AxesSubplot at 0x7fd9b33b6b20>"
      ]
     },
     "execution_count": 37,
     "metadata": {},
     "output_type": "execute_result"
    },
    {
     "data": {
      "image/png": "[encoded data removed]",
      "text/plain": [
       "<Figure size 864x504 with 1 Axes>"
      ]
     },
     "metadata": {
      "image/png": {
       "height": 440,
       "width": 764
      },
      "needs_background": "light"
     },
     "output_type": "display_data"
    }
   ],
   "source": [
    "# XR3 완주률\n",
    "\n",
    "plt.figure(figsize=(12, 7))\n",
    "plt.title(\"XR3완주률\")\n",
    "plt.xlabel(\"완주율\")\n",
    "plt.ylabel(\"이름\")\n",
    "XR3_rate.plot(kind='barh')"
   ]
  },
  {
   "cell_type": "markdown",
   "metadata": {},
   "source": [
    "## 선수들의 최고 기록 확인해보기"
   ]
  },
  {
   "cell_type": "code",
   "execution_count": 38,
   "metadata": {},
   "outputs": [],
   "source": [
    "# \"이름\" 컬럼을 기준으로 경기데이터를 모아준 후 min() 함수 사용 최소값들을 표시해준다.\n",
    "# 우리는 순위도 한 눈에 보고 싶으니 sort_values(\"기록\") 기준으로 정렬해준다.\n",
    "\n",
    "XR1_record = (XR1.groupby(\"이름\").min()).sort_values(\"기록\")\n",
    "XR2_record = (XR2.groupby(\"이름\").min()).sort_values(\"기록\")\n",
    "XR3_record = (XR3.groupby(\"이름\").min()).sort_values(\"기록\")"
   ]
  },
  {
   "cell_type": "code",
   "execution_count": 39,
   "metadata": {},
   "outputs": [
    {
     "data": {
      "text/html": [
       "<div>\n",
       "<style scoped>\n",
       "    .dataframe tbody tr th:only-of-type {\n",
       "        vertical-align: middle;\n",
       "    }\n",
       "\n",
       "    .dataframe tbody tr th {\n",
       "        vertical-align: top;\n",
       "    }\n",
       "\n",
       "    .dataframe thead th {\n",
       "        text-align: right;\n",
       "    }\n",
       "</style>\n",
       "<table border=\"1\" class=\"dataframe\">\n",
       "  <thead>\n",
       "    <tr style=\"text-align: right;\">\n",
       "      <th></th>\n",
       "      <th>기록</th>\n",
       "    </tr>\n",
       "    <tr>\n",
       "      <th>이름</th>\n",
       "      <th></th>\n",
       "    </tr>\n",
       "  </thead>\n",
       "  <tbody>\n",
       "    <tr>\n",
       "      <th>강창현(XR1)</th>\n",
       "      <td>00:34.72</td>\n",
       "    </tr>\n",
       "    <tr>\n",
       "      <th>박성주(XR1)</th>\n",
       "      <td>00:36.45</td>\n",
       "    </tr>\n",
       "    <tr>\n",
       "      <th>김태양(XR1)</th>\n",
       "      <td>00:38.05</td>\n",
       "    </tr>\n",
       "    <tr>\n",
       "      <th>김서준(XR1)</th>\n",
       "      <td>00:39.3</td>\n",
       "    </tr>\n",
       "    <tr>\n",
       "      <th>이민서(XR1)</th>\n",
       "      <td>00:39.49</td>\n",
       "    </tr>\n",
       "    <tr>\n",
       "      <th>최준원(XR1)</th>\n",
       "      <td>00:39.5</td>\n",
       "    </tr>\n",
       "    <tr>\n",
       "      <th>김재희(XR1)</th>\n",
       "      <td>00:42.31</td>\n",
       "    </tr>\n",
       "    <tr>\n",
       "      <th>김시현(XR1)</th>\n",
       "      <td>00:42.75</td>\n",
       "    </tr>\n",
       "    <tr>\n",
       "      <th>전제형(XR1)</th>\n",
       "      <td>00:43.49</td>\n",
       "    </tr>\n",
       "  </tbody>\n",
       "</table>\n",
       "</div>"
      ],
      "text/plain": [
       "                기록\n",
       "이름                \n",
       "강창현(XR1)  00:34.72\n",
       "박성주(XR1)  00:36.45\n",
       "김태양(XR1)  00:38.05\n",
       "김서준(XR1)   00:39.3\n",
       "이민서(XR1)  00:39.49\n",
       "최준원(XR1)   00:39.5\n",
       "김재희(XR1)  00:42.31\n",
       "김시현(XR1)  00:42.75\n",
       "전제형(XR1)  00:43.49"
      ]
     },
     "execution_count": 39,
     "metadata": {},
     "output_type": "execute_result"
    }
   ],
   "source": [
    "# XR1 클라스 친구들의 순위 및 최고 기록\n",
    "XR1_record"
   ]
  },
  {
   "cell_type": "code",
   "execution_count": 375,
   "metadata": {},
   "outputs": [
    {
     "data": {
      "text/html": [
       "<div>\n",
       "<style scoped>\n",
       "    .dataframe tbody tr th:only-of-type {\n",
       "        vertical-align: middle;\n",
       "    }\n",
       "\n",
       "    .dataframe tbody tr th {\n",
       "        vertical-align: top;\n",
       "    }\n",
       "\n",
       "    .dataframe thead th {\n",
       "        text-align: right;\n",
       "    }\n",
       "</style>\n",
       "<table border=\"1\" class=\"dataframe\">\n",
       "  <thead>\n",
       "    <tr style=\"text-align: right;\">\n",
       "      <th></th>\n",
       "      <th>기록</th>\n",
       "    </tr>\n",
       "    <tr>\n",
       "      <th>이름</th>\n",
       "      <th></th>\n",
       "    </tr>\n",
       "  </thead>\n",
       "  <tbody>\n",
       "    <tr>\n",
       "      <th>김현연(XR2)</th>\n",
       "      <td>00:48.42</td>\n",
       "    </tr>\n",
       "    <tr>\n",
       "      <th>정복문(XR2)</th>\n",
       "      <td>00:50.59</td>\n",
       "    </tr>\n",
       "    <tr>\n",
       "      <th>이우진(XR2)</th>\n",
       "      <td>00:51.39</td>\n",
       "    </tr>\n",
       "    <tr>\n",
       "      <th>조진국(XR2)</th>\n",
       "      <td>00:52.98</td>\n",
       "    </tr>\n",
       "    <tr>\n",
       "      <th>장현진(XR2)</th>\n",
       "      <td>00:53.07</td>\n",
       "    </tr>\n",
       "    <tr>\n",
       "      <th>조완익(XR2)</th>\n",
       "      <td>00:53.33</td>\n",
       "    </tr>\n",
       "    <tr>\n",
       "      <th>양우(XR2)</th>\n",
       "      <td>00:56.09</td>\n",
       "    </tr>\n",
       "  </tbody>\n",
       "</table>\n",
       "</div>"
      ],
      "text/plain": [
       "                기록\n",
       "이름                \n",
       "김현연(XR2)  00:48.42\n",
       "정복문(XR2)  00:50.59\n",
       "이우진(XR2)  00:51.39\n",
       "조진국(XR2)  00:52.98\n",
       "장현진(XR2)  00:53.07\n",
       "조완익(XR2)  00:53.33\n",
       "양우(XR2)   00:56.09"
      ]
     },
     "execution_count": 375,
     "metadata": {},
     "output_type": "execute_result"
    }
   ],
   "source": [
    "\n",
    "XR2_record"
   ]
  },
  {
   "cell_type": "code",
   "execution_count": 376,
   "metadata": {},
   "outputs": [
    {
     "data": {
      "text/html": [
       "<div>\n",
       "<style scoped>\n",
       "    .dataframe tbody tr th:only-of-type {\n",
       "        vertical-align: middle;\n",
       "    }\n",
       "\n",
       "    .dataframe tbody tr th {\n",
       "        vertical-align: top;\n",
       "    }\n",
       "\n",
       "    .dataframe thead th {\n",
       "        text-align: right;\n",
       "    }\n",
       "</style>\n",
       "<table border=\"1\" class=\"dataframe\">\n",
       "  <thead>\n",
       "    <tr style=\"text-align: right;\">\n",
       "      <th></th>\n",
       "      <th>기록</th>\n",
       "    </tr>\n",
       "    <tr>\n",
       "      <th>이름</th>\n",
       "      <th></th>\n",
       "    </tr>\n",
       "  </thead>\n",
       "  <tbody>\n",
       "    <tr>\n",
       "      <th>최주영(XR3)</th>\n",
       "      <td>01:02.39</td>\n",
       "    </tr>\n",
       "    <tr>\n",
       "      <th>윤정훈(XR3)</th>\n",
       "      <td>01:03.39</td>\n",
       "    </tr>\n",
       "    <tr>\n",
       "      <th>김강한(XR3)</th>\n",
       "      <td>01:07.11</td>\n",
       "    </tr>\n",
       "    <tr>\n",
       "      <th>김익환(XR3)</th>\n",
       "      <td>01:10.5</td>\n",
       "    </tr>\n",
       "    <tr>\n",
       "      <th>김영모(XR3)</th>\n",
       "      <td>01:15.64</td>\n",
       "    </tr>\n",
       "  </tbody>\n",
       "</table>\n",
       "</div>"
      ],
      "text/plain": [
       "                기록\n",
       "이름                \n",
       "최주영(XR3)  01:02.39\n",
       "윤정훈(XR3)  01:03.39\n",
       "김강한(XR3)  01:07.11\n",
       "김익환(XR3)   01:10.5\n",
       "김영모(XR3)  01:15.64"
      ]
     },
     "execution_count": 376,
     "metadata": {},
     "output_type": "execute_result"
    }
   ],
   "source": [
    "XR3_record"
   ]
  },
  {
   "cell_type": "code",
   "execution_count": null,
   "metadata": {},
   "outputs": [],
   "source": []
  },
  {
   "cell_type": "code",
   "execution_count": null,
   "metadata": {},
   "outputs": [],
   "source": []
  }
 ],
 "metadata": {
  "kernelspec": {
   "display_name": "Python 3",
   "language": "python",
   "name": "python3"
  },
  "language_info": {
   "codemirror_mode": {
    "name": "ipython",
    "version": 3
   },
   "file_extension": ".py",
   "mimetype": "text/x-python",
   "name": "python",
   "nbconvert_exporter": "python",
   "pygments_lexer": "ipython3",
   "version": "3.8.3"
  }
 },
 "nbformat": 4,
 "nbformat_minor": 4
}
